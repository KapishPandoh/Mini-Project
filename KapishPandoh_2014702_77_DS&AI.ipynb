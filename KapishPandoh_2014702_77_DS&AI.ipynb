{
 "cells": [
  {
   "cell_type": "markdown",
   "metadata": {},
   "source": [
    "## Import Libraries"
   ]
  },
  {
   "cell_type": "code",
   "execution_count": 1,
   "metadata": {},
   "outputs": [],
   "source": [
    "import pandas as pd\n",
    "import numpy as np"
   ]
  },
  {
   "cell_type": "code",
   "execution_count": 2,
   "metadata": {},
   "outputs": [],
   "source": [
    "from sklearn.feature_extraction.text import CountVectorizer"
   ]
  },
  {
   "cell_type": "code",
   "execution_count": 3,
   "metadata": {},
   "outputs": [],
   "source": [
    "from sklearn.model_selection import train_test_split"
   ]
  },
  {
   "cell_type": "code",
   "execution_count": 4,
   "metadata": {},
   "outputs": [],
   "source": [
    "from sklearn.tree import DecisionTreeClassifier"
   ]
  },
  {
   "cell_type": "code",
   "execution_count": 5,
   "metadata": {},
   "outputs": [],
   "source": [
    "from sklearn.metrics import accuracy_score , confusion_matrix , plot_confusion_matrix"
   ]
  },
  {
   "cell_type": "code",
   "execution_count": 6,
   "metadata": {},
   "outputs": [],
   "source": [
    "import warnings\n",
    "warnings.filterwarnings('ignore')"
   ]
  },
  {
   "cell_type": "markdown",
   "metadata": {},
   "source": [
    "## Load Dataset"
   ]
  },
  {
   "cell_type": "code",
   "execution_count": 7,
   "metadata": {},
   "outputs": [
    {
     "data": {
      "text/html": [
       "<div>\n",
       "<style scoped>\n",
       "    .dataframe tbody tr th:only-of-type {\n",
       "        vertical-align: middle;\n",
       "    }\n",
       "\n",
       "    .dataframe tbody tr th {\n",
       "        vertical-align: top;\n",
       "    }\n",
       "\n",
       "    .dataframe thead th {\n",
       "        text-align: right;\n",
       "    }\n",
       "</style>\n",
       "<table border=\"1\" class=\"dataframe\">\n",
       "  <thead>\n",
       "    <tr style=\"text-align: right;\">\n",
       "      <th></th>\n",
       "      <th>URLs</th>\n",
       "      <th>Headline</th>\n",
       "      <th>Body</th>\n",
       "      <th>Label</th>\n",
       "    </tr>\n",
       "  </thead>\n",
       "  <tbody>\n",
       "    <tr>\n",
       "      <th>0</th>\n",
       "      <td>http://www.bbc.com/news/world-us-canada-414191...</td>\n",
       "      <td>Four ways Bob Corker skewered Donald Trump</td>\n",
       "      <td>Image copyright Getty Images\\nOn Sunday mornin...</td>\n",
       "      <td>1</td>\n",
       "    </tr>\n",
       "    <tr>\n",
       "      <th>1</th>\n",
       "      <td>https://www.reuters.com/article/us-filmfestiva...</td>\n",
       "      <td>Linklater's war veteran comedy speaks to moder...</td>\n",
       "      <td>LONDON (Reuters) - “Last Flag Flying”, a comed...</td>\n",
       "      <td>1</td>\n",
       "    </tr>\n",
       "    <tr>\n",
       "      <th>2</th>\n",
       "      <td>https://www.nytimes.com/2017/10/09/us/politics...</td>\n",
       "      <td>Trump’s Fight With Corker Jeopardizes His Legi...</td>\n",
       "      <td>The feud broke into public view last week when...</td>\n",
       "      <td>1</td>\n",
       "    </tr>\n",
       "    <tr>\n",
       "      <th>3</th>\n",
       "      <td>https://www.reuters.com/article/us-mexico-oil-...</td>\n",
       "      <td>Egypt's Cheiron wins tie-up with Pemex for Mex...</td>\n",
       "      <td>MEXICO CITY (Reuters) - Egypt’s Cheiron Holdin...</td>\n",
       "      <td>1</td>\n",
       "    </tr>\n",
       "    <tr>\n",
       "      <th>4</th>\n",
       "      <td>http://www.cnn.com/videos/cnnmoney/2017/10/08/...</td>\n",
       "      <td>Jason Aldean opens 'SNL' with Vegas tribute</td>\n",
       "      <td>Country singer Jason Aldean, who was performin...</td>\n",
       "      <td>1</td>\n",
       "    </tr>\n",
       "  </tbody>\n",
       "</table>\n",
       "</div>"
      ],
      "text/plain": [
       "                                                URLs  \\\n",
       "0  http://www.bbc.com/news/world-us-canada-414191...   \n",
       "1  https://www.reuters.com/article/us-filmfestiva...   \n",
       "2  https://www.nytimes.com/2017/10/09/us/politics...   \n",
       "3  https://www.reuters.com/article/us-mexico-oil-...   \n",
       "4  http://www.cnn.com/videos/cnnmoney/2017/10/08/...   \n",
       "\n",
       "                                            Headline  \\\n",
       "0         Four ways Bob Corker skewered Donald Trump   \n",
       "1  Linklater's war veteran comedy speaks to moder...   \n",
       "2  Trump’s Fight With Corker Jeopardizes His Legi...   \n",
       "3  Egypt's Cheiron wins tie-up with Pemex for Mex...   \n",
       "4        Jason Aldean opens 'SNL' with Vegas tribute   \n",
       "\n",
       "                                                Body  Label  \n",
       "0  Image copyright Getty Images\\nOn Sunday mornin...      1  \n",
       "1  LONDON (Reuters) - “Last Flag Flying”, a comed...      1  \n",
       "2  The feud broke into public view last week when...      1  \n",
       "3  MEXICO CITY (Reuters) - Egypt’s Cheiron Holdin...      1  \n",
       "4  Country singer Jason Aldean, who was performin...      1  "
      ]
     },
     "execution_count": 7,
     "metadata": {},
     "output_type": "execute_result"
    }
   ],
   "source": [
    "data = pd.read_csv('data.csv')\n",
    "data.head()"
   ]
  },
  {
   "cell_type": "code",
   "execution_count": 8,
   "metadata": {},
   "outputs": [
    {
     "data": {
      "text/plain": [
       "array([1, 0], dtype=int64)"
      ]
     },
     "execution_count": 8,
     "metadata": {},
     "output_type": "execute_result"
    }
   ],
   "source": [
    "data['Label'].unique()"
   ]
  },
  {
   "cell_type": "code",
   "execution_count": 9,
   "metadata": {},
   "outputs": [
    {
     "data": {
      "text/plain": [
       "URLs        object\n",
       "Headline    object\n",
       "Body        object\n",
       "Label        int64\n",
       "dtype: object"
      ]
     },
     "execution_count": 9,
     "metadata": {},
     "output_type": "execute_result"
    }
   ],
   "source": [
    "data.dtypes"
   ]
  },
  {
   "cell_type": "code",
   "execution_count": 10,
   "metadata": {},
   "outputs": [
    {
     "data": {
      "text/html": [
       "<div>\n",
       "<style scoped>\n",
       "    .dataframe tbody tr th:only-of-type {\n",
       "        vertical-align: middle;\n",
       "    }\n",
       "\n",
       "    .dataframe tbody tr th {\n",
       "        vertical-align: top;\n",
       "    }\n",
       "\n",
       "    .dataframe thead th {\n",
       "        text-align: right;\n",
       "    }\n",
       "</style>\n",
       "<table border=\"1\" class=\"dataframe\">\n",
       "  <thead>\n",
       "    <tr style=\"text-align: right;\">\n",
       "      <th></th>\n",
       "      <th>Headline</th>\n",
       "      <th>Body</th>\n",
       "      <th>Label</th>\n",
       "    </tr>\n",
       "  </thead>\n",
       "  <tbody>\n",
       "    <tr>\n",
       "      <th>0</th>\n",
       "      <td>Four ways Bob Corker skewered Donald Trump</td>\n",
       "      <td>Image copyright Getty Images\\nOn Sunday mornin...</td>\n",
       "      <td>1</td>\n",
       "    </tr>\n",
       "    <tr>\n",
       "      <th>1</th>\n",
       "      <td>Linklater's war veteran comedy speaks to moder...</td>\n",
       "      <td>LONDON (Reuters) - “Last Flag Flying”, a comed...</td>\n",
       "      <td>1</td>\n",
       "    </tr>\n",
       "    <tr>\n",
       "      <th>2</th>\n",
       "      <td>Trump’s Fight With Corker Jeopardizes His Legi...</td>\n",
       "      <td>The feud broke into public view last week when...</td>\n",
       "      <td>1</td>\n",
       "    </tr>\n",
       "    <tr>\n",
       "      <th>3</th>\n",
       "      <td>Egypt's Cheiron wins tie-up with Pemex for Mex...</td>\n",
       "      <td>MEXICO CITY (Reuters) - Egypt’s Cheiron Holdin...</td>\n",
       "      <td>1</td>\n",
       "    </tr>\n",
       "    <tr>\n",
       "      <th>4</th>\n",
       "      <td>Jason Aldean opens 'SNL' with Vegas tribute</td>\n",
       "      <td>Country singer Jason Aldean, who was performin...</td>\n",
       "      <td>1</td>\n",
       "    </tr>\n",
       "  </tbody>\n",
       "</table>\n",
       "</div>"
      ],
      "text/plain": [
       "                                            Headline  \\\n",
       "0         Four ways Bob Corker skewered Donald Trump   \n",
       "1  Linklater's war veteran comedy speaks to moder...   \n",
       "2  Trump’s Fight With Corker Jeopardizes His Legi...   \n",
       "3  Egypt's Cheiron wins tie-up with Pemex for Mex...   \n",
       "4        Jason Aldean opens 'SNL' with Vegas tribute   \n",
       "\n",
       "                                                Body  Label  \n",
       "0  Image copyright Getty Images\\nOn Sunday mornin...      1  \n",
       "1  LONDON (Reuters) - “Last Flag Flying”, a comed...      1  \n",
       "2  The feud broke into public view last week when...      1  \n",
       "3  MEXICO CITY (Reuters) - Egypt’s Cheiron Holdin...      1  \n",
       "4  Country singer Jason Aldean, who was performin...      1  "
      ]
     },
     "execution_count": 10,
     "metadata": {},
     "output_type": "execute_result"
    }
   ],
   "source": [
    "data = data.drop(['URLs'] ,axis=1)\n",
    "data.head()"
   ]
  },
  {
   "cell_type": "code",
   "execution_count": 11,
   "metadata": {},
   "outputs": [
    {
     "data": {
      "text/plain": [
       "(4009, 3)"
      ]
     },
     "execution_count": 11,
     "metadata": {},
     "output_type": "execute_result"
    }
   ],
   "source": [
    "data.shape"
   ]
  },
  {
   "cell_type": "code",
   "execution_count": 12,
   "metadata": {},
   "outputs": [
    {
     "data": {
      "text/plain": [
       "Headline     0\n",
       "Body        21\n",
       "Label        0\n",
       "dtype: int64"
      ]
     },
     "execution_count": 12,
     "metadata": {},
     "output_type": "execute_result"
    }
   ],
   "source": [
    "data.isnull().sum()"
   ]
  },
  {
   "cell_type": "code",
   "execution_count": 13,
   "metadata": {},
   "outputs": [],
   "source": [
    "data = data.dropna()"
   ]
  },
  {
   "cell_type": "code",
   "execution_count": 14,
   "metadata": {},
   "outputs": [
    {
     "data": {
      "text/plain": [
       "(3988, 3)"
      ]
     },
     "execution_count": 14,
     "metadata": {},
     "output_type": "execute_result"
    }
   ],
   "source": [
    "data.shape"
   ]
  },
  {
   "cell_type": "markdown",
   "metadata": {},
   "source": [
    "## Classifier"
   ]
  },
  {
   "cell_type": "code",
   "execution_count": 15,
   "metadata": {},
   "outputs": [],
   "source": [
    "h = data.iloc[:,0].values\n",
    "b = data.iloc[:,1].values"
   ]
  },
  {
   "cell_type": "code",
   "execution_count": 16,
   "metadata": {},
   "outputs": [
    {
     "data": {
      "text/plain": [
       "array(['Four ways Bob Corker skewered Donald Trump',\n",
       "       \"Linklater's war veteran comedy speaks to modern America, says star\",\n",
       "       'Trump’s Fight With Corker Jeopardizes His Legislative Agenda',\n",
       "       ..., 'Trump Jr. Is Soon To Give A 30-Minute Speech For $100,000',\n",
       "       'China to accept overseas trial data in bid to speed up drug approvals',\n",
       "       'Vice President Mike Pence Leaves NFL Game Because of Anti-American Protests'],\n",
       "      dtype=object)"
      ]
     },
     "execution_count": 16,
     "metadata": {},
     "output_type": "execute_result"
    }
   ],
   "source": [
    "h"
   ]
  },
  {
   "cell_type": "code",
   "execution_count": 17,
   "metadata": {},
   "outputs": [
    {
     "data": {
      "text/plain": [
       "array(['Image copyright Getty Images\\nOn Sunday morning, Donald Trump went off on a Twitter tirade against a member of his own party.\\nThis, in itself, isn\\'t exactly huge news. It\\'s far from the first time the president has turned his rhetorical cannons on his own ranks.\\nThis time, however, his attacks were particularly biting and personal. He essentially called Tennessee Senator Bob Corker, the chair of the powerful Senate Foreign Relations Committee, a coward for not running for re-election.\\nHe said Mr Corker \"begged\" for the president\\'s endorsement, which he refused to give. He wrongly claimed that Mr Corker\\'s support of the Iranian nuclear agreement was his only political accomplishment.\\nUnlike some of his colleagues, Mr Corker - free from having to worry about his immediate political future - didn\\'t hold his tongue.\\nSkip Twitter post by @SenBobCorker It\\'s a shame the White House has become an adult day care center. Someone obviously missed their shift this morning. — Senator Bob Corker (@SenBobCorker) October 8, 2017 Report\\nThat wasn\\'t the end of it, though. He then spoke with the New York Times and really let the president have it. Here are four choice quotes from the Tennessee senator\\'s interview with the Times and why they are particularly damning.\\n\"I don\\'t know why the president tweets out things that are not true. You know he does it, everyone knows he does it, but he does.\"\\nYou can\\'t really sugarcoat this one. Mr Corker is flat-out saying the president is a liar - and everyone knows it.\\nThe senator, in particular, is challenging Mr Trump\\'s insistence that he unsuccessfully pleaded for his endorsement, but the accusation is much broader.\\nMr Corker and the president used to be something akin to allies. The Tennessean was on Mr Trump\\'s short list for vice-president and secretary of state.\\nImage copyright Getty Images Image caption Bob Corker at Trump campaign rally in July 2016\\nThose days are seemingly very much over now - and it\\'s not like Mr Corker is going anywhere anytime soon. Although he\\'s not running for re-election, he\\'ll be in the Senate, chairing a powerful committee, until January 2019.\\nThe president\\'s margin for success in that chamber is razor-thin. If Democrats can continue to stand together in opposition, he can afford to lose only two votes out of 52 Republican senators. That\\'s why healthcare reform collapsed in July - and it could be bad news for tax efforts.\\nFrom here on out, Mr Corker isn\\'t going to do the president any favours.\\n\"Look, except for a few people, the vast majority of our caucus understands what we\\'re dealing with here.\"\\nFrustration in Congress has been growing over what Republicans feel has been the president\\'s inability to focus on advancing their agenda. Getting a sharply divided party to come together on plans to repeal Obamacare, reform taxes or boost infrastructure spending is challenging enough. Doing so when the president stirs up unrelated controversies on a seemingly daily basis makes things all the harder.\\nOne of the president\\'s gifts has been his ability to shake off negative stories by quickly moving on to a different subject. That worked brilliantly during his presidential campaign, but it\\'s less effective during the legislative slow grind.\\nImage copyright Getty Images Image caption Corker at the confirmation hearing for Secretary of State Rex Tillerson\\nFor months, Republicans in Congress have been grumbling about this in the background and among themselves. Occasionally, someone like Mr McConnell will lament that the president doesn\\'t understand how the Senate works.\\nMr Corker has now stated it loud and clear. And, what\\'s more, he says almost everyone agrees with him. They\\'ve kept silent until now because they still hope to pass conservative legislation that the president can sign or fear Mr Trump\\'s legions will back a primary challenge next year or stay home during the general election.\\nIf that calculus ever changes - if it becomes riskier to stay silent than speak out - Mr Trump will be in real trouble.\\n\"A lot of people think that there is some kind of \\'good cop, bad cop\\' act underway, but that\\'s just not true.\"\\nTime and again, Mr Trump has appeared to undercut Secretary of State Rex Tillerson and others in his administration who are attempting to use soft diplomacy to deal with a range of international crises.\\nThe war against the Taliban in Afghanistan, Iran\\'s compliance with the multinational nuclear agreement, the ongoing dispute between Qatar and its Persian Gulf neighbours, the unrest in Venezuela and, most recently, North Korea\\'s continued ballistic missile tests have all been the target of the president\\'s offhand remarks and Twitter invective.\\nSome administration defenders have said this is all a part of Mr Trump\\'s strategy - an updated version of the Nixon-era \"madman theory\", in which the president forces adversaries to give way because they fear an unpredictable US leader\\'s actions.\\nMr Corker isn\\'t buying it. There\\'s no strategy, he says, just the possibility of chaos - which he hopes Mr Trump\\'s senior advisers will be able to avoid.\\n\"I know for a fact that every single day at the White House, it\\'s a situation of trying to contain him.\"\\nThere\\'s now a growing collection of John Kelly face-palm photos that serve as a testament to the chief-of-staff\\'s reported frustration at dealing with the president.\\nMr Trump goes off-script to praise torch-bearing white nationalists at a rally in Charlottesville, and Mr Kelly is captured closing his eyes and rubbing the arch of his nose, as if attempting to stave off a migraine.\\nImage copyright Reuters Image caption White House Chief of Staff John Kelly looks on as US President Donald Trump speaks at a campaign rally\\nThe president calls North Korean leaders \"criminals\" in a speech to the United Nations, and Mr Kelly straight-up buries his face in his hands.\\nThe White House communications team is often left scrambling to try to explain or reframe an indelicate presidential \"joke\" or remark that directly contradicts what was until then the official administration line.\\nEven though Mr Kelly has brought some discipline to the West Wing staff, the president still marches to the beat of his own drum - and continues to have unfettered access to his phone\\'s Twitter app.\\nBob Corker is only the latest person - politician, journalist, sports star or celebrity - to feel the mercurial president\\'s uncontainable ire.',\n",
       "       'LONDON (Reuters) - “Last Flag Flying”, a comedy-drama about Vietnam war veterans, will resonate with Trump’s America, despite, or perhaps because of, its period setting, actor Bryan Cranston said on Sunday after a screening at the London Film Festival.\\nSet in the United States in December 2003 – when U.S. forces in Iraq were dragging Saddam Hussein out of a “spider hole” - it is the story of three ageing former servicemen who reunite to bury the son of one of them who has been killed in action.\\nWith President Donald Trump saying he could “totally destroy” North Korea and characterizing a dinner with military commanders as “the calm before the storm”, Cranston said “Last Flag Flying” was a timely reminder of the effect on normal Americans of ill-advised military campaigns.\\n“I think it has a lot of relevance today in the sense that (today) it’s not clear cut as far as the (what are the) intentions of the government or military,” Cranston, acclaimed for his lead role in the TV drama “Breaking Bad”, told Reuters.\\n“In World War Two, it was the ‘good war’, it was clear and present danger, we had to stop this mad man. Since then, with Vietnam and Iraq, (there are) a lot of questions ... among the troops and the citizens as to if we are doing the right thing and what is the purpose of our being there.”\\nCast member Bryan Cranston (R) and director Richard Linklater pose with festival director Claire Stewart as they arrive for the premiere of \"Last Flag Flying\" during the British Film Institute (BFI) London Film Festival at the Odeon, Leicester Square, in London, Britain October 8, 2017. REUTERS/Afolabi Sotunde\\n“Last Flag Flying” was produced by Amazon Studios and directed and co-written by Richard Linklater, whose greatest critical acclaim has been for the naturalistic “Before Sunset” trilogy and the 2014 “Boyhood” which won a slew of Oscar nominations.\\nLinklater also made comedies including “School of Rock” and “Everybody Wants Some!!”, about skirt-chasing undergraduates. “Last Flag Flying” falls somewhere between the two genres.\\nCast member Bryan Cranston (R) poses with director Richard Linklater as they arrive for the premiere of \"Last Flag Flying\" during the British Film Institute (BFI) London Film Festival at the Odeon, Leicester Square, in London, Britain October 8, 2017. REUTERS/Afolabi Sotunde\\nThe drama and comedy stem from the chemistry between the three leads, each played by a big Hollywood name.\\nSteve Carell is the awkward shy one who, we assume, was quiet and withdrawn even before the loss of his son. Cranston plays a foul-mouthed, hard-drinking bar owner who is his own best customer, and Laurence Fishburne, is a man who has found God and become an evangelical preacher, preferring to forget the sex and drugs they all indulged in back in ‘Nam.\\nVanity Fair’s Richard Lawson said the film’s ability to honor the footsoldiers while being critical of the wars they are sent to fight, could hit “an Academy sweet spot, satisfying both the more conservative oldsters and the younger, leftier types.”\\nOther critics said “Last Flag Flying” lacked the light touch of Linklater’s best work. The Guardian’s Benjamin Lee called it “a half-baked TV movie masquerading as Oscarbait, a curious misstep for the Oscar-nominated indie auteur”.\\nWriting by Robin Pomeroy, editing by David Evans',\n",
       "       \"The feud broke into public view last week when Mr. Corker said that Mr. Trump’s advisers were guarding against “chaos.” The president retaliated on Sunday by saying the retiring senator “didn’t have the guts to run” for another term. Mr. Corker responded on Twitter an hour later, saying that the White House had become an “adult day care center.”\\nHe then unloaded in an interview with The New York Times, saying in public what many of his Republican colleagues say in private — that the president is dangerously erratic, treats his high office like “a reality show,” has to be contained by his staff and is reckless enough to put the country “on the path to World War III.”\\nMr. Corker, a moderate by temperament as well as ideology, had measured his occasional criticisms of Mr. Trump for months in hopes of influencing his foreign policy, but evidently feels liberated now that he has decided not to run for a third term.\\nFew other incumbent Republicans rushed to the microphones to echo his comments on Monday, but several made little attempt to hide their irritation at Mr. Trump for attacking Mr. Corker.\\n“He’s an important part of our team, and he’s a particularly important part of the budget debate, which will be on the floor next week,” Mr. McConnell said pointedly at an event in Hazard, Ky., with Scott Pruitt, the head of the Environmental Protection Agency.\\n“Bob Corker has been a leader in Congress on issues as diverse as deficit reduction and combating terrorism, and he is a man of unwavering integrity,” Senator Rob Portman, Republican of Ohio, said in a statement. “If we’re going to accomplish our economic and national security agenda we’re going to have to work together, period.”\\nMr. McConnell’s associates were blunter in expressing the leadership’s frustration with the president for disrupting party unity as Republicans push for tax cuts. “This was going to be hard no matter what,” said Billy Piper, Mr. McConnell’s former chief of staff. “And he took the guy who was one of the linchpins of this and incinerated him for no reason.”\\nAdvertisement Continue reading the main story\\nThe White House spent Monday telling allies that Mr. Corker was responsible for the fight, not Mr. Trump, and that the senator was an attention-seeking obstructionist.\\nNewsletter Sign Up Continue reading the main story Please verify you're not a robot by clicking the box. Invalid email address. Please re-enter. You must select a newsletter to subscribe to. Sign Up You agree to receive occasional updates and special offers for The New York Times's products and services. Thank you for subscribing. An error has occurred. Please try again later. View all New York Times newsletters.\\n“I find tweets like this to be incredibly irresponsible,” Kellyanne Conway, the president’s counselor, told Fox News, referring to Mr. Corker’s posted response to Mr. Trump on Sunday. “It adds to the insulting that the mainstream media and the president’s detractors — almost a year after this election, they still can’t accept the election results. It adds to their ability and their cover to speak about the president of the United States in ways that no president should be talked about.”\\nVice President Mike Pence was left to defend Mr. Trump against what he called “empty rhetoric and baseless attacks,” saying the president had accomplished a lot internationally. “Today our nation once again stands without apology as leader of the free world,” Mr. Pence said in a statement. “That’s what American leadership on the world stage looks like and no amount of criticism at home can diminish those results.”\\nMr. Trump has grown frustrated by Senate Republicans — including lashing out at Mr. McConnell for not getting the job done — as legislation to repeal President Barack Obama’s health care program has been repeatedly blocked. He has engaged in open conflicts with Senators John McCain and Jeff Flake of Arizona, Lindsey Graham of South Carolina and Lisa Murkowski of Alaska, among others, although just Monday he went golfing with Mr. Graham.\\nSome Republican senators share Mr. Trump’s frustration with gridlock in the Senate. “We want things to move quickly,” said Senator Thom Tillis of North Carolina, who was elected in 2014. “People are frustrated with the lack of results.”\\nSenator David Perdue of Georgia, another member of the 2014 class, has been even more outspoken in venting about fellow Republicans derailing health care legislation. “People are very upset that Republican senators are not backing the agenda of this president,” he said.\\nMr. Trump’s former chief strategist, Stephen K. Bannon, acting in what he says is the president’s interest, is organizing a rebellion against the Republican establishment and recruiting candidates to challenge incumbent senators in primaries next year. “This is what they think about President Trump behind closed doors,” Mr. Bannon said on Fox News on Monday night, referring to Mr. Corker’s comments and calling on the senator to resign. Mr. Pence’s chief of staff has talked about a “purge” of Republicans who are not loyal to Mr. Trump.\\nThat may keep more Republicans on board even if they agree with Mr. Corker.\\n“Do most senators have their doubts about the president?” asked John Feehery, a longtime Republican congressional aide. “That’s probably true, but also largely irrelevant. He’s the president, and they have to find ways to get stuff done with him. Otherwise, they face the wrath of the voters — something Bob Corker no longer worries about.”\\nIn effect, Mr. McCain, Ms. Murkowski and Senator Susan Collins of Maine already were free agents on many issues. Regular defections by Mr. Corker would make the president’s ability to pass legislation that much harder, absent bipartisan deals with Democrats.\\nAdvertisement Continue reading the main story\\nAs chairman of the Senate Foreign Relations Committee, Mr. Corker could block the confirmation of a new secretary of state should Mr. Trump push out his embattled chief diplomat, Rex W. Tillerson. He also, presumably, would play a key role in any decision on whether to tear up the Iran nuclear deal.\\n“Senate Republicans’ frustrations with Trump are starting to boil over,” said Alex Conant, a former Senate Republican aide. “I’m sure the feelings are mutual inside the White House. The relationship was always tenuous at best, but Corker’s comments are a new low point.”\\n“If they were getting a lot done, it would be easier for everyone to get along,” Mr. Conant said. “Of course, the fact that they’re not getting along also makes it harder to get anything done.”\",\n",
       "       ...,\n",
       "       \"Trump Jr. Is Soon To Give A 30-Minute Speech For $100,000\\n% of readers think this story is Fact. Add your two cents.\\n(Before It's News)\\nDonald Trump Jr. is being paid $100,000 to give a speech at a Texas university. The fee is double what he made when his father was not the president.\\nSource: http://www.carbonated.tv/news/trump-jr-hundred-thousand-dollar-speech-university-north-texas\",\n",
       "       'SHANGHAI (Reuters) - China said it plans to accept data from overseas clinical trials to speed up approvals of drugs, a potential boon for international drugmakers as well as patients who often face lengthy delays for new medicines to reach the market.\\nThe move, outlined by the Cabinet late on Sunday, seeks to address high medicine costs and access to healthcare for China’s population of nearly 1.4 billion. In the past five years, China has approved just over 100 innovative new drugs, about one-third the number in developed markets.\\nAccepting overseas clinical data will help global drugmakers at time of growing competition from Chinese rivals in the world’s second-biggest pharmaceuticals market as well as pressure from authorities which are anxious to rein in prices.\\n“Overall, China’s support for scientific innovation with drugs and medical devices is lacking, and the quality of products on the market still falls short of top international levels,” the draft proposals said.\\n“We must speed up the examination and approval of urgently needed drugs and medical devices.”\\nThe Cabinet also said it would look to improve the protection of medical intellectual property and boost the number and quality of clinical trial testing centers in China. The proposals contained no timeline for implementation.\\n“We want to make our drug industry large-scale and strong, make it more competitive, and shift our long-term reliance on imports of new drugs,” Wu Zhen, deputy head of the China Food and Drug Administration, told a briefing on Monday.\\n“(Some drugs) have been used overseas for 6-7 years before making it to market in China,” Wu added.\\nChina in March proposed ways to speed up approvals for imported drugs, including reforming clinical trial requirements. It also wants to boost its own drug industry and see a shift from generic drugs and towards more innovative medicines and medical equipment.\\nReporting by Adam Jourdan; Editing by Richard Borsuk and Edwina Gibbs',\n",
       "       \"Vice President Mike Pence Leaves NFL Game Because of Anti-American Protests\\n% of readers think this story is Fact. Add your two cents.\\n(Before It's News)\\nBy Donn Marten -\\nVice President Mike Pence was to have attended today’s National Football League game between the Indianapolis Colts and San Francisco 49ers but chose to leave after several players chose to use his presence to make an anti-American political statement.\\nCDN – http://www.conservativedailynews.com\\nThe Colts were to have honored longtime player and future Hall of Fame quarterback Peyton Manning during a ceremony but while the home team respected the flag by standing, the actions of the opposing San Francisco 49ers were seen as sufficiently disrespectful to the Veep that he departed the venue before kickoff.\\nAs reported by Indianapolis Fox affiliate Fox 59 “VP Mike Pence leaves Colts game because 49ers players knelt during anthem”:\\nVice President Mike Pence decided to leave the Indianapolis Colts game Sunday because some 49ers players knelt during the national anthem. In a tweet, the former Indiana governor said “I left today’s Colts game because @POTUS and I will not dignify any event that disrespects our soldiers, our Flag, or our National Anthem.” Minutes after that tweet, his office released a full statement. “I left today’s Colts game because President Trump and I will not dignify any event that disrespects our soldiers, our Flag, or our National Anthem. At a time when so many Americans are inspiring our nation with their courage, resolve, and resilience, now, more than ever, we should rally around our Flag and everything that unites us. While everyone is entitled to their own opinions, I don’t think it’s too much to ask NFL players to respect the Flag and our National Anthem. I stand with President Trump, I stand with our soldiers, and I will always stand for our Flag and our National Anthem.” It was announced Friday that Pence would attend the game with the second lady. The game is special, because Peyton Manning’s jersey will be retired at halftime and he will be inducted into the Ring of Honor. Before the game, he tweeted that he was looking forward to honor “the great career of #18 Peyton Manning.” Pence’s actions will no doubt be seized on by those who have polluted the NFL with their racial grievances and hatred of President Trump as “proof” that he stands for white supremacy and Nazism but he was dead right to leave and many of the other fans in attendance should have done so as well instead of being subjected to the politics of radical leftist racial grievance mongers that have driven the league’s popularity to historic lows.\\nThe Vice President expressed the following via Twitter:\\n52m Vice President Pence ✔@VP Replying to @VP While everyone is entitled to their own opinions, I don’t think it’s too much to ask NFL players to respect the Flag and our National Anthem\\nVice President Pence ✔@VP I left today’s Colts game because @POTUS and I will not dignify any event that disrespects our soldiers, our Flag, or our National Anthem. 11:08 AM – Oct 8, 2017\\nPence was formerly the Governor of Indiana.\\nIt’s just what the NFL needed too, even more negative publicity before the early games even kicked off.\\nREAD MORE\\nVice President Mike Pence Leaves NFL Game Because of Anti-American Protests is original content from Conservative Daily News – Conservative Daily News – Where Americans go for news, current events and commentary they can trust.\\nCDN – http://www.conservativedailynews.com\\nSource: https://www.conservativedailynews.com/2017/10/vice-president-mike-pence-leaves-nfl-game-anti-american-protests/\"],\n",
       "      dtype=object)"
      ]
     },
     "execution_count": 17,
     "metadata": {},
     "output_type": "execute_result"
    }
   ],
   "source": [
    "b"
   ]
  },
  {
   "cell_type": "code",
   "execution_count": 18,
   "metadata": {},
   "outputs": [
    {
     "data": {
      "text/plain": [
       "(3988,)"
      ]
     },
     "execution_count": 18,
     "metadata": {},
     "output_type": "execute_result"
    }
   ],
   "source": [
    "h.shape"
   ]
  },
  {
   "cell_type": "code",
   "execution_count": 19,
   "metadata": {},
   "outputs": [
    {
     "data": {
      "text/plain": [
       "(3988,)"
      ]
     },
     "execution_count": 19,
     "metadata": {},
     "output_type": "execute_result"
    }
   ],
   "source": [
    "b.shape"
   ]
  },
  {
   "cell_type": "code",
   "execution_count": 20,
   "metadata": {},
   "outputs": [],
   "source": [
    "## Classifier\n",
    "cv = CountVectorizer()"
   ]
  },
  {
   "cell_type": "code",
   "execution_count": 21,
   "metadata": {},
   "outputs": [],
   "source": [
    "head = cv.fit_transform(h).todense()\n",
    "body = cv.fit_transform(b).todense()"
   ]
  },
  {
   "cell_type": "code",
   "execution_count": 22,
   "metadata": {},
   "outputs": [],
   "source": [
    "X = np.hstack((head,body))\n",
    "y = data['Label']"
   ]
  },
  {
   "cell_type": "code",
   "execution_count": 23,
   "metadata": {},
   "outputs": [
    {
     "data": {
      "text/plain": [
       "(3988, 53220)"
      ]
     },
     "execution_count": 23,
     "metadata": {},
     "output_type": "execute_result"
    }
   ],
   "source": [
    "X.shape"
   ]
  },
  {
   "cell_type": "code",
   "execution_count": 24,
   "metadata": {},
   "outputs": [
    {
     "data": {
      "text/plain": [
       "(3988,)"
      ]
     },
     "execution_count": 24,
     "metadata": {},
     "output_type": "execute_result"
    }
   ],
   "source": [
    "y.shape"
   ]
  },
  {
   "cell_type": "markdown",
   "metadata": {},
   "source": [
    "## Train Test Split"
   ]
  },
  {
   "cell_type": "code",
   "execution_count": 25,
   "metadata": {},
   "outputs": [],
   "source": [
    "X_train ,X_test ,y_train ,y_test = train_test_split(X,y,test_size=0.33,random_state=0)"
   ]
  },
  {
   "cell_type": "markdown",
   "metadata": {},
   "source": [
    "## Model"
   ]
  },
  {
   "cell_type": "code",
   "execution_count": 26,
   "metadata": {},
   "outputs": [],
   "source": [
    "model = DecisionTreeClassifier(criterion='entropy')"
   ]
  },
  {
   "cell_type": "code",
   "execution_count": 27,
   "metadata": {},
   "outputs": [
    {
     "data": {
      "text/plain": [
       "DecisionTreeClassifier(criterion='entropy')"
      ]
     },
     "execution_count": 27,
     "metadata": {},
     "output_type": "execute_result"
    }
   ],
   "source": [
    "model.fit(X_train,y_train)"
   ]
  },
  {
   "cell_type": "code",
   "execution_count": 28,
   "metadata": {},
   "outputs": [],
   "source": [
    "y_pred = model.predict(X_test)"
   ]
  },
  {
   "cell_type": "markdown",
   "metadata": {},
   "source": [
    "## Accuracy of model"
   ]
  },
  {
   "cell_type": "code",
   "execution_count": 29,
   "metadata": {},
   "outputs": [
    {
     "data": {
      "text/plain": [
       "0.9521640091116174"
      ]
     },
     "execution_count": 29,
     "metadata": {},
     "output_type": "execute_result"
    }
   ],
   "source": [
    "accuracy = accuracy_score(y_test,y_pred)\n",
    "accuracy"
   ]
  },
  {
   "cell_type": "code",
   "execution_count": 30,
   "metadata": {},
   "outputs": [
    {
     "data": {
      "text/plain": [
       "array([[678,  36],\n",
       "       [ 27, 576]], dtype=int64)"
      ]
     },
     "execution_count": 30,
     "metadata": {},
     "output_type": "execute_result"
    }
   ],
   "source": [
    "confusion_matrix(y_test,y_pred)"
   ]
  },
  {
   "cell_type": "code",
   "execution_count": 31,
   "metadata": {},
   "outputs": [
    {
     "data": {
      "text/plain": [
       "<sklearn.metrics._plot.confusion_matrix.ConfusionMatrixDisplay at 0x2991ffcb430>"
      ]
     },
     "execution_count": 31,
     "metadata": {},
     "output_type": "execute_result"
    },
    {
     "data": {
      "image/png": "[encoded data removed]",
      "text/plain": [
       "<Figure size 432x288 with 2 Axes>"
      ]
     },
     "metadata": {
      "needs_background": "light"
     },
     "output_type": "display_data"
    }
   ],
   "source": [
    "plot_confusion_matrix(\n",
    "                        model , \n",
    "                        X_test ,\n",
    "                        y_test\n",
    "                      )"
   ]
  },
  {
   "cell_type": "code",
   "execution_count": null,
   "metadata": {},
   "outputs": [],
   "source": []
  }
 ],
 "metadata": {
  "kernelspec": {
   "display_name": "Python 3",
   "language": "python",
   "name": "python3"
  },
  "language_info": {
   "codemirror_mode": {
    "name": "ipython",
    "version": 3
   },
   "file_extension": ".py",
   "mimetype": "text/x-python",
   "name": "python",
   "nbconvert_exporter": "python",
   "pygments_lexer": "ipython3",
   "version": "3.8.5"
  }
 },
 "nbformat": 4,
 "nbformat_minor": 4
}
