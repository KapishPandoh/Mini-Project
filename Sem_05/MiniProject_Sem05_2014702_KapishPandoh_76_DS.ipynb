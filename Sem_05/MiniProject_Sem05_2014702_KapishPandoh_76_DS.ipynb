{
 "cells": [
  {
   "cell_type": "markdown",
   "metadata": {},
   "source": [
    "<center><h1> Classifying Ships in Satellite Imagery using CNN </h1></center>"
   ]
  },
  {
   "cell_type": "markdown",
   "metadata": {},
   "source": [
    "<img src='shipimg.jpg' width='800' height='700' />"
   ]
  },
  {
   "cell_type": "markdown",
   "metadata": {},
   "source": [
    "* **Dataset** : [Classifying Ships in Satellite Imagery](https://www.kaggle.com/rhammell/ships-in-satellite-imagery?select=shipsnet)"
   ]
  },
  {
   "cell_type": "markdown",
   "metadata": {},
   "source": [
    "**Content** :\n",
    "\n",
    "- The dataset consists of image chips extracted from Planet satellite imagery collected over the San Francisco Bay and San Pedro Bay areas of California. \n",
    "\n",
    "- It includes `4000 80x80` RGB images labeled with either a \"ship\" or \"no-ship\" classification. "
   ]
  },
  {
   "cell_type": "markdown",
   "metadata": {},
   "source": [
    "**Data** :\n",
    "\n",
    "- `label`: Valued 1 or 0, representing the \"ship\" class and \"no-ship\" class, respectively.\n",
    "\n",
    "\n",
    "- `scene id` : The unique identifier of the PlanetScope visual scene the image chip was extracted from. The scene id can be used with the Planet API to discover and download the entire scene.\n",
    "\n",
    "\n",
    "- `data` : The pixel values are stored in a column in the data frame titled “data.”"
   ]
  },
  {
   "cell_type": "markdown",
   "metadata": {},
   "source": [
    "`The dataset is also distributed as a JSON formatted text file shipsnet.json. The loaded object contains data, label, scene_ids, and location lists.`"
   ]
  },
  {
   "cell_type": "markdown",
   "metadata": {},
   "source": [
    "* The pixel value data for each `80x80 RGB image` is stored as a list of `19200 integers` within the data list. \n",
    "\n",
    "* The first 6400 entries contain the red channel values, the next 6400 the green, and the final 6400 the blue. "
   ]
  },
  {
   "cell_type": "markdown",
   "metadata": {},
   "source": [
    "## Import Libraries"
   ]
  },
  {
   "cell_type": "code",
   "execution_count": 1,
   "metadata": {},
   "outputs": [],
   "source": [
    "import pandas as pd\n",
    "import numpy as np"
   ]
  },
  {
   "cell_type": "code",
   "execution_count": 2,
   "metadata": {},
   "outputs": [],
   "source": [
    "import matplotlib.pyplot as plt\n",
    "%matplotlib inline"
   ]
  },
  {
   "cell_type": "code",
   "execution_count": 3,
   "metadata": {},
   "outputs": [],
   "source": [
    "from sklearn.model_selection import train_test_split"
   ]
  },
  {
   "cell_type": "code",
   "execution_count": 4,
   "metadata": {},
   "outputs": [],
   "source": [
    "from tensorflow.keras.models import Sequential"
   ]
  },
  {
   "cell_type": "code",
   "execution_count": 5,
   "metadata": {},
   "outputs": [],
   "source": [
    "from tensorflow.keras.layers import Conv2D"
   ]
  },
  {
   "cell_type": "code",
   "execution_count": 6,
   "metadata": {},
   "outputs": [],
   "source": [
    "# used for reduce data dimensionality\n",
    "from tensorflow.keras.layers import MaxPooling2D"
   ]
  },
  {
   "cell_type": "code",
   "execution_count": 7,
   "metadata": {},
   "outputs": [],
   "source": [
    "from tensorflow.keras.layers import Dropout"
   ]
  },
  {
   "cell_type": "code",
   "execution_count": 8,
   "metadata": {},
   "outputs": [],
   "source": [
    "# number of units proportional to input\n",
    "from tensorflow.keras.layers import Flatten"
   ]
  },
  {
   "cell_type": "code",
   "execution_count": 9,
   "metadata": {},
   "outputs": [],
   "source": [
    "#regular dense connected layer\n",
    "from tensorflow.keras.layers import Dense"
   ]
  },
  {
   "cell_type": "code",
   "execution_count": 10,
   "metadata": {},
   "outputs": [],
   "source": [
    "from tensorflow.keras.layers import Activation"
   ]
  },
  {
   "cell_type": "code",
   "execution_count": 11,
   "metadata": {},
   "outputs": [],
   "source": [
    "from tensorflow.keras.optimizers import Adam"
   ]
  },
  {
   "cell_type": "code",
   "execution_count": 13,
   "metadata": {},
   "outputs": [],
   "source": [
    "from sklearn.metrics import confusion_matrix\n",
    "from sklearn.metrics import accuracy_score\n",
    "from sklearn.metrics import classification_report\n",
    "from sklearn.metrics import precision_recall_curve\n",
    "from sklearn.metrics import roc_auc_score, roc_curve"
   ]
  },
  {
   "cell_type": "code",
   "execution_count": 14,
   "metadata": {},
   "outputs": [],
   "source": [
    "from tensorflow.keras.models import load_model"
   ]
  },
  {
   "cell_type": "code",
   "execution_count": 15,
   "metadata": {},
   "outputs": [],
   "source": [
    "import warnings\n",
    "warnings.filterwarnings(\"ignore\")"
   ]
  },
  {
   "cell_type": "markdown",
   "metadata": {},
   "source": [
    "## Load Dataset"
   ]
  },
  {
   "cell_type": "code",
   "execution_count": 16,
   "metadata": {},
   "outputs": [
    {
     "data": {
      "text/html": [
       "<div>\n",
       "<style scoped>\n",
       "    .dataframe tbody tr th:only-of-type {\n",
       "        vertical-align: middle;\n",
       "    }\n",
       "\n",
       "    .dataframe tbody tr th {\n",
       "        vertical-align: top;\n",
       "    }\n",
       "\n",
       "    .dataframe thead th {\n",
       "        text-align: right;\n",
       "    }\n",
       "</style>\n",
       "<table border=\"1\" class=\"dataframe\">\n",
       "  <thead>\n",
       "    <tr style=\"text-align: right;\">\n",
       "      <th></th>\n",
       "      <th>data</th>\n",
       "      <th>labels</th>\n",
       "      <th>locations</th>\n",
       "      <th>scene_ids</th>\n",
       "    </tr>\n",
       "  </thead>\n",
       "  <tbody>\n",
       "    <tr>\n",
       "      <th>0</th>\n",
       "      <td>[82, 89, 91, 87, 89, 87, 86, 86, 86, 86, 84, 8...</td>\n",
       "      <td>1</td>\n",
       "      <td>[-118.2254694333423, 33.73803725920789]</td>\n",
       "      <td>20180708_180909_0f47</td>\n",
       "    </tr>\n",
       "    <tr>\n",
       "      <th>1</th>\n",
       "      <td>[76, 75, 67, 62, 68, 72, 73, 73, 68, 69, 69, 6...</td>\n",
       "      <td>1</td>\n",
       "      <td>[-122.33222866289329, 37.7491755586813]</td>\n",
       "      <td>20170705_180816_103e</td>\n",
       "    </tr>\n",
       "    <tr>\n",
       "      <th>2</th>\n",
       "      <td>[125, 127, 129, 130, 126, 125, 129, 133, 132, ...</td>\n",
       "      <td>1</td>\n",
       "      <td>[-118.14283073363218, 33.736016066914175]</td>\n",
       "      <td>20180712_211331_0f06</td>\n",
       "    </tr>\n",
       "    <tr>\n",
       "      <th>3</th>\n",
       "      <td>[102, 99, 113, 106, 96, 102, 105, 105, 103, 10...</td>\n",
       "      <td>1</td>\n",
       "      <td>[-122.34784341495181, 37.76648707436548]</td>\n",
       "      <td>20170609_180756_103a</td>\n",
       "    </tr>\n",
       "    <tr>\n",
       "      <th>4</th>\n",
       "      <td>[78, 76, 74, 78, 79, 79, 79, 82, 86, 85, 83, 8...</td>\n",
       "      <td>1</td>\n",
       "      <td>[-122.34852408322172, 37.75878462398653]</td>\n",
       "      <td>20170515_180653_1007</td>\n",
       "    </tr>\n",
       "    <tr>\n",
       "      <th>...</th>\n",
       "      <td>...</td>\n",
       "      <td>...</td>\n",
       "      <td>...</td>\n",
       "      <td>...</td>\n",
       "    </tr>\n",
       "    <tr>\n",
       "      <th>3995</th>\n",
       "      <td>[126, 122, 124, 138, 165, 186, 195, 199, 203, ...</td>\n",
       "      <td>0</td>\n",
       "      <td>[-122.08693255500694, 37.77781408256089]</td>\n",
       "      <td>20170815_180821_102d</td>\n",
       "    </tr>\n",
       "    <tr>\n",
       "      <th>3996</th>\n",
       "      <td>[130, 134, 139, 128, 117, 126, 141, 147, 142, ...</td>\n",
       "      <td>0</td>\n",
       "      <td>[-122.10549691828378, 37.76946626247702]</td>\n",
       "      <td>20170730_191230_0f21</td>\n",
       "    </tr>\n",
       "    <tr>\n",
       "      <th>3997</th>\n",
       "      <td>[171, 135, 118, 140, 145, 144, 154, 165, 139, ...</td>\n",
       "      <td>0</td>\n",
       "      <td>[-122.48298739296371, 37.684929808845375]</td>\n",
       "      <td>20161116_180804_0e14</td>\n",
       "    </tr>\n",
       "    <tr>\n",
       "      <th>3998</th>\n",
       "      <td>[85, 90, 94, 95, 94, 92, 93, 96, 93, 94, 94, 9...</td>\n",
       "      <td>0</td>\n",
       "      <td>[-122.29028216570079, 37.71632091139081]</td>\n",
       "      <td>20170211_181116_0e16</td>\n",
       "    </tr>\n",
       "    <tr>\n",
       "      <th>3999</th>\n",
       "      <td>[122, 122, 126, 126, 142, 153, 174, 190, 185, ...</td>\n",
       "      <td>0</td>\n",
       "      <td>[-122.49531387721586, 37.698557210117706]</td>\n",
       "      <td>20180206_184438_1043</td>\n",
       "    </tr>\n",
       "  </tbody>\n",
       "</table>\n",
       "<p>4000 rows × 4 columns</p>\n",
       "</div>"
      ],
      "text/plain": [
       "                                                   data  labels  \\\n",
       "0     [82, 89, 91, 87, 89, 87, 86, 86, 86, 86, 84, 8...       1   \n",
       "1     [76, 75, 67, 62, 68, 72, 73, 73, 68, 69, 69, 6...       1   \n",
       "2     [125, 127, 129, 130, 126, 125, 129, 133, 132, ...       1   \n",
       "3     [102, 99, 113, 106, 96, 102, 105, 105, 103, 10...       1   \n",
       "4     [78, 76, 74, 78, 79, 79, 79, 82, 86, 85, 83, 8...       1   \n",
       "...                                                 ...     ...   \n",
       "3995  [126, 122, 124, 138, 165, 186, 195, 199, 203, ...       0   \n",
       "3996  [130, 134, 139, 128, 117, 126, 141, 147, 142, ...       0   \n",
       "3997  [171, 135, 118, 140, 145, 144, 154, 165, 139, ...       0   \n",
       "3998  [85, 90, 94, 95, 94, 92, 93, 96, 93, 94, 94, 9...       0   \n",
       "3999  [122, 122, 126, 126, 142, 153, 174, 190, 185, ...       0   \n",
       "\n",
       "                                      locations             scene_ids  \n",
       "0       [-118.2254694333423, 33.73803725920789]  20180708_180909_0f47  \n",
       "1       [-122.33222866289329, 37.7491755586813]  20170705_180816_103e  \n",
       "2     [-118.14283073363218, 33.736016066914175]  20180712_211331_0f06  \n",
       "3      [-122.34784341495181, 37.76648707436548]  20170609_180756_103a  \n",
       "4      [-122.34852408322172, 37.75878462398653]  20170515_180653_1007  \n",
       "...                                         ...                   ...  \n",
       "3995   [-122.08693255500694, 37.77781408256089]  20170815_180821_102d  \n",
       "3996   [-122.10549691828378, 37.76946626247702]  20170730_191230_0f21  \n",
       "3997  [-122.48298739296371, 37.684929808845375]  20161116_180804_0e14  \n",
       "3998   [-122.29028216570079, 37.71632091139081]  20170211_181116_0e16  \n",
       "3999  [-122.49531387721586, 37.698557210117706]  20180206_184438_1043  \n",
       "\n",
       "[4000 rows x 4 columns]"
      ]
     },
     "execution_count": 16,
     "metadata": {},
     "output_type": "execute_result"
    }
   ],
   "source": [
    "dataset = pd.read_json(\"shipsnet.json\")\n",
    "dataset"
   ]
  },
  {
   "cell_type": "code",
   "execution_count": 17,
   "metadata": {},
   "outputs": [
    {
     "data": {
      "text/plain": [
       "(4000,)"
      ]
     },
     "execution_count": 17,
     "metadata": {},
     "output_type": "execute_result"
    }
   ],
   "source": [
    "dataset['data'].shape"
   ]
  },
  {
   "cell_type": "markdown",
   "metadata": {},
   "source": [
    "## Transform Data"
   ]
  },
  {
   "cell_type": "markdown",
   "metadata": {},
   "source": [
    "**As is, these pixel values aren’t ready to be processed by a CNN. Instead, the new data is converted to a NumPy array and divided by 255 to normalize the values.**\n",
    "\n",
    "**All 19,200 values should now be some value between 0 and 1.**"
   ]
  },
  {
   "cell_type": "markdown",
   "metadata": {},
   "source": [
    "**Next the data is reshaped to 80 x 80 x 3 matrix so that it’s formatted as a picture**"
   ]
  },
  {
   "cell_type": "code",
   "execution_count": 18,
   "metadata": {},
   "outputs": [],
   "source": [
    "dataset['normalized_data'] = dataset['data'].apply(lambda x : (np.array(x)/255).reshape(80,80,3)) "
   ]
  },
  {
   "cell_type": "code",
   "execution_count": 19,
   "metadata": {},
   "outputs": [
    {
     "data": {
      "text/plain": [
       "(4000,)"
      ]
     },
     "execution_count": 19,
     "metadata": {},
     "output_type": "execute_result"
    }
   ],
   "source": [
    "dataset['normalized_data'].shape"
   ]
  },
  {
   "cell_type": "code",
   "execution_count": 20,
   "metadata": {},
   "outputs": [
    {
     "data": {
      "text/html": [
       "<div>\n",
       "<style scoped>\n",
       "    .dataframe tbody tr th:only-of-type {\n",
       "        vertical-align: middle;\n",
       "    }\n",
       "\n",
       "    .dataframe tbody tr th {\n",
       "        vertical-align: top;\n",
       "    }\n",
       "\n",
       "    .dataframe thead th {\n",
       "        text-align: right;\n",
       "    }\n",
       "</style>\n",
       "<table border=\"1\" class=\"dataframe\">\n",
       "  <thead>\n",
       "    <tr style=\"text-align: right;\">\n",
       "      <th></th>\n",
       "      <th>data</th>\n",
       "      <th>labels</th>\n",
       "      <th>locations</th>\n",
       "      <th>scene_ids</th>\n",
       "      <th>normalized_data</th>\n",
       "    </tr>\n",
       "  </thead>\n",
       "  <tbody>\n",
       "    <tr>\n",
       "      <th>0</th>\n",
       "      <td>[82, 89, 91, 87, 89, 87, 86, 86, 86, 86, 84, 8...</td>\n",
       "      <td>1</td>\n",
       "      <td>[-118.2254694333423, 33.73803725920789]</td>\n",
       "      <td>20180708_180909_0f47</td>\n",
       "      <td>[[[0.3215686274509804, 0.34901960784313724, 0....</td>\n",
       "    </tr>\n",
       "    <tr>\n",
       "      <th>1</th>\n",
       "      <td>[76, 75, 67, 62, 68, 72, 73, 73, 68, 69, 69, 6...</td>\n",
       "      <td>1</td>\n",
       "      <td>[-122.33222866289329, 37.7491755586813]</td>\n",
       "      <td>20170705_180816_103e</td>\n",
       "      <td>[[[0.2980392156862745, 0.29411764705882354, 0....</td>\n",
       "    </tr>\n",
       "    <tr>\n",
       "      <th>2</th>\n",
       "      <td>[125, 127, 129, 130, 126, 125, 129, 133, 132, ...</td>\n",
       "      <td>1</td>\n",
       "      <td>[-118.14283073363218, 33.736016066914175]</td>\n",
       "      <td>20180712_211331_0f06</td>\n",
       "      <td>[[[0.49019607843137253, 0.4980392156862745, 0....</td>\n",
       "    </tr>\n",
       "    <tr>\n",
       "      <th>3</th>\n",
       "      <td>[102, 99, 113, 106, 96, 102, 105, 105, 103, 10...</td>\n",
       "      <td>1</td>\n",
       "      <td>[-122.34784341495181, 37.76648707436548]</td>\n",
       "      <td>20170609_180756_103a</td>\n",
       "      <td>[[[0.4, 0.38823529411764707, 0.443137254901960...</td>\n",
       "    </tr>\n",
       "    <tr>\n",
       "      <th>4</th>\n",
       "      <td>[78, 76, 74, 78, 79, 79, 79, 82, 86, 85, 83, 8...</td>\n",
       "      <td>1</td>\n",
       "      <td>[-122.34852408322172, 37.75878462398653]</td>\n",
       "      <td>20170515_180653_1007</td>\n",
       "      <td>[[[0.3058823529411765, 0.2980392156862745, 0.2...</td>\n",
       "    </tr>\n",
       "  </tbody>\n",
       "</table>\n",
       "</div>"
      ],
      "text/plain": [
       "                                                data  labels  \\\n",
       "0  [82, 89, 91, 87, 89, 87, 86, 86, 86, 86, 84, 8...       1   \n",
       "1  [76, 75, 67, 62, 68, 72, 73, 73, 68, 69, 69, 6...       1   \n",
       "2  [125, 127, 129, 130, 126, 125, 129, 133, 132, ...       1   \n",
       "3  [102, 99, 113, 106, 96, 102, 105, 105, 103, 10...       1   \n",
       "4  [78, 76, 74, 78, 79, 79, 79, 82, 86, 85, 83, 8...       1   \n",
       "\n",
       "                                   locations             scene_ids  \\\n",
       "0    [-118.2254694333423, 33.73803725920789]  20180708_180909_0f47   \n",
       "1    [-122.33222866289329, 37.7491755586813]  20170705_180816_103e   \n",
       "2  [-118.14283073363218, 33.736016066914175]  20180712_211331_0f06   \n",
       "3   [-122.34784341495181, 37.76648707436548]  20170609_180756_103a   \n",
       "4   [-122.34852408322172, 37.75878462398653]  20170515_180653_1007   \n",
       "\n",
       "                                     normalized_data  \n",
       "0  [[[0.3215686274509804, 0.34901960784313724, 0....  \n",
       "1  [[[0.2980392156862745, 0.29411764705882354, 0....  \n",
       "2  [[[0.49019607843137253, 0.4980392156862745, 0....  \n",
       "3  [[[0.4, 0.38823529411764707, 0.443137254901960...  \n",
       "4  [[[0.3058823529411765, 0.2980392156862745, 0.2...  "
      ]
     },
     "execution_count": 20,
     "metadata": {},
     "output_type": "execute_result"
    }
   ],
   "source": [
    "dataset.head()"
   ]
  },
  {
   "cell_type": "markdown",
   "metadata": {},
   "source": [
    "## Split Data"
   ]
  },
  {
   "cell_type": "code",
   "execution_count": 21,
   "metadata": {},
   "outputs": [],
   "source": [
    "X = dataset[\"normalized_data\"]\n",
    "y = dataset[\"labels\"]"
   ]
  },
  {
   "cell_type": "code",
   "execution_count": 22,
   "metadata": {},
   "outputs": [],
   "source": [
    "X_train, X_test, y_train, y_test = train_test_split(X, y, test_size=0.25, random_state=0)"
   ]
  },
  {
   "cell_type": "code",
   "execution_count": 23,
   "metadata": {},
   "outputs": [
    {
     "data": {
      "text/plain": [
       "(3000,)"
      ]
     },
     "execution_count": 23,
     "metadata": {},
     "output_type": "execute_result"
    }
   ],
   "source": [
    "X_train.shape"
   ]
  },
  {
   "cell_type": "code",
   "execution_count": 24,
   "metadata": {},
   "outputs": [
    {
     "data": {
      "text/plain": [
       "678     [[[0.32941176470588235, 0.32941176470588235, 0...\n",
       "2427    [[[0.4666666666666667, 0.47058823529411764, 0....\n",
       "3574    [[[0.050980392156862744, 0.12549019607843137, ...\n",
       "1119    [[[0.4470588235294118, 0.4627450980392157, 0.4...\n",
       "2931    [[[0.40784313725490196, 0.4117647058823529, 0....\n",
       "                              ...                        \n",
       "835     [[[0.16862745098039217, 0.1843137254901961, 0....\n",
       "3264    [[[0.4235294117647059, 0.43137254901960786, 0....\n",
       "1653    [[[0.30196078431372547, 0.2980392156862745, 0....\n",
       "2607    [[[0.43529411764705883, 0.4235294117647059, 0....\n",
       "2732    [[[0.5019607843137255, 0.4980392156862745, 0.4...\n",
       "Name: normalized_data, Length: 3000, dtype: object"
      ]
     },
     "execution_count": 24,
     "metadata": {},
     "output_type": "execute_result"
    }
   ],
   "source": [
    "X_train"
   ]
  },
  {
   "cell_type": "markdown",
   "metadata": {},
   "source": [
    "**Unfortunately, Pandas Series aren’t accepted in TensorFlow, so the training and testing data are converted into arrays**"
   ]
  },
  {
   "cell_type": "code",
   "execution_count": 25,
   "metadata": {},
   "outputs": [],
   "source": [
    "X_train = np.array([i  for i in X_train])\n",
    "X_test = np.array([i  for i in X_test])\n",
    "\n",
    "y_train = np.array([i  for i in y_train])\n",
    "y_test = np.array([i  for i in y_test])"
   ]
  },
  {
   "cell_type": "code",
   "execution_count": 26,
   "metadata": {},
   "outputs": [
    {
     "data": {
      "text/plain": [
       "(3000, 80, 80, 3)"
      ]
     },
     "execution_count": 26,
     "metadata": {},
     "output_type": "execute_result"
    }
   ],
   "source": [
    "X_train.shape"
   ]
  },
  {
   "cell_type": "code",
   "execution_count": 27,
   "metadata": {},
   "outputs": [
    {
     "data": {
      "text/plain": [
       "(80, 80, 3)"
      ]
     },
     "execution_count": 27,
     "metadata": {},
     "output_type": "execute_result"
    }
   ],
   "source": [
    "X_train.shape[1:]"
   ]
  },
  {
   "cell_type": "markdown",
   "metadata": {},
   "source": [
    "## Train CNN model"
   ]
  },
  {
   "cell_type": "markdown",
   "metadata": {},
   "source": [
    "**The CNN is initialized as a sequential model, which ensures each layer receives one input and one output.**"
   ]
  },
  {
   "cell_type": "code",
   "execution_count": 28,
   "metadata": {},
   "outputs": [],
   "source": [
    "model = Sequential()"
   ]
  },
  {
   "cell_type": "markdown",
   "metadata": {},
   "source": [
    "**Conv2D: convulutional layer. In the first layer the input is shaped (80, 80, 3): a 3D-object of 80x80x3, or a matrix 80x80 for each channel of information (R, G, B)**"
   ]
  },
  {
   "cell_type": "markdown",
   "metadata": {},
   "source": [
    " The first layer is a convolution layer which uses a “ReLu” activation function and expects an input tensor of 80 x 80 x 3, the exact dimensions of the training images. The 32 represents the dimensionality of the output of the layer and the (3, 3) represents the size of the convolution window, 3px x 3px in this case."
   ]
  },
  {
   "cell_type": "markdown",
   "metadata": {},
   "source": [
    "The next layer added is for max pooling, which takes a pool size of 2 x 2."
   ]
  },
  {
   "cell_type": "code",
   "execution_count": 29,
   "metadata": {},
   "outputs": [],
   "source": [
    "# 1st convulsion layer\n",
    "model.add(\n",
    "           Conv2D(\n",
    "                   filters     = 32                ,\n",
    "                   kernel_size = (3,3)             ,\n",
    "                   input_shape = X_train.shape[1:] ,\n",
    "                   activation  = 'relu'            ,\n",
    "                  )\n",
    "           )\n",
    "\n",
    "\n",
    "model.add(\n",
    "           MaxPooling2D(pool_size=(2,2))\n",
    "         )"
   ]
  },
  {
   "cell_type": "code",
   "execution_count": 30,
   "metadata": {},
   "outputs": [],
   "source": [
    "# hidden layer 1\n",
    "\n",
    "model.add(\n",
    "           Conv2D(\n",
    "                   filters     = 64                ,\n",
    "                   kernel_size = (3,3)             ,\n",
    "                   activation  = 'relu'            ,\n",
    "                  )\n",
    "           )\n",
    "\n",
    "\n",
    "model.add(\n",
    "           MaxPooling2D(pool_size=(2,2))\n",
    "         )\n",
    "\n",
    "model.add(\n",
    "           Dropout(0.25)\n",
    "         )"
   ]
  },
  {
   "cell_type": "code",
   "execution_count": 31,
   "metadata": {},
   "outputs": [],
   "source": [
    "# hidden layer 2\n",
    "\n",
    "model.add(\n",
    "           Conv2D(\n",
    "                   filters     = 64                ,\n",
    "                   kernel_size = (3,3)             ,\n",
    "                   activation  = 'relu'            ,\n",
    "                  )\n",
    "           )"
   ]
  },
  {
   "cell_type": "code",
   "execution_count": 32,
   "metadata": {},
   "outputs": [],
   "source": [
    "# hidden layer 3\n",
    "\n",
    "model.add(\n",
    "           Conv2D(\n",
    "                   filters     = 64                ,\n",
    "                   kernel_size = (3,3)             ,\n",
    "                   activation  = 'relu'            ,\n",
    "                  )\n",
    "           )"
   ]
  },
  {
   "cell_type": "code",
   "execution_count": 33,
   "metadata": {},
   "outputs": [],
   "source": [
    "model.add(\n",
    "           MaxPooling2D(pool_size=(2,2))\n",
    "         )\n",
    "\n",
    "model.add(\n",
    "           Dropout(0.25)\n",
    "         )"
   ]
  },
  {
   "cell_type": "code",
   "execution_count": 34,
   "metadata": {},
   "outputs": [],
   "source": [
    "# Flattens the input into a 1D tensor\n",
    "# this line simply flattens the tensor into a 1 dimension, which will make processing easier.\n",
    "\n",
    "model.add(\n",
    "           Flatten()\n",
    "         )"
   ]
  },
  {
   "cell_type": "code",
   "execution_count": 35,
   "metadata": {},
   "outputs": [],
   "source": [
    "# Makes the input more readable for classification\n",
    "\n",
    "model.add(\n",
    "            Dense(\n",
    "                   64, \n",
    "                   activation='relu'\n",
    "                 )\n",
    "         )"
   ]
  },
  {
   "cell_type": "code",
   "execution_count": 36,
   "metadata": {},
   "outputs": [],
   "source": [
    "# again called dropout for some extra regularization\n",
    "\n",
    "model.add(\n",
    "           Dropout(0.5)\n",
    "         )"
   ]
  },
  {
   "cell_type": "code",
   "execution_count": 37,
   "metadata": {},
   "outputs": [],
   "source": [
    "# add on that final dense layer \n",
    "# so that our output is equal to the number of classes \n",
    "\n",
    "model.add(\n",
    "           Dense(1)\n",
    "         )"
   ]
  },
  {
   "cell_type": "code",
   "execution_count": 38,
   "metadata": {},
   "outputs": [],
   "source": [
    "# Final activation function\n",
    "# Finally an activation layer is added which tells the whether or not to fire the neuron.\n",
    "\n",
    "model.add(Activation('sigmoid'))"
   ]
  },
  {
   "cell_type": "code",
   "execution_count": 39,
   "metadata": {},
   "outputs": [
    {
     "name": "stdout",
     "output_type": "stream",
     "text": [
      "Model: \"sequential\"\n",
      "_________________________________________________________________\n",
      "Layer (type)                 Output Shape              Param #   \n",
      "=================================================================\n",
      "conv2d (Conv2D)              (None, 78, 78, 32)        896       \n",
      "_________________________________________________________________\n",
      "max_pooling2d (MaxPooling2D) (None, 39, 39, 32)        0         \n",
      "_________________________________________________________________\n",
      "conv2d_1 (Conv2D)            (None, 37, 37, 64)        18496     \n",
      "_________________________________________________________________\n",
      "max_pooling2d_1 (MaxPooling2 (None, 18, 18, 64)        0         \n",
      "_________________________________________________________________\n",
      "dropout (Dropout)            (None, 18, 18, 64)        0         \n",
      "_________________________________________________________________\n",
      "conv2d_2 (Conv2D)            (None, 16, 16, 64)        36928     \n",
      "_________________________________________________________________\n",
      "conv2d_3 (Conv2D)            (None, 14, 14, 64)        36928     \n",
      "_________________________________________________________________\n",
      "max_pooling2d_2 (MaxPooling2 (None, 7, 7, 64)          0         \n",
      "_________________________________________________________________\n",
      "dropout_1 (Dropout)          (None, 7, 7, 64)          0         \n",
      "_________________________________________________________________\n",
      "flatten (Flatten)            (None, 3136)              0         \n",
      "_________________________________________________________________\n",
      "dense (Dense)                (None, 64)                200768    \n",
      "_________________________________________________________________\n",
      "dropout_2 (Dropout)          (None, 64)                0         \n",
      "_________________________________________________________________\n",
      "dense_1 (Dense)              (None, 1)                 65        \n",
      "_________________________________________________________________\n",
      "activation (Activation)      (None, 1)                 0         \n",
      "=================================================================\n",
      "Total params: 294,081\n",
      "Trainable params: 294,081\n",
      "Non-trainable params: 0\n",
      "_________________________________________________________________\n"
     ]
    }
   ],
   "source": [
    "model.summary()"
   ]
  },
  {
   "cell_type": "code",
   "execution_count": 40,
   "metadata": {},
   "outputs": [],
   "source": [
    "# Compile the model\n",
    "\n",
    "'''\n",
    "Use binary_crossentropy because there are only 2 classes present\n",
    "'''\n",
    "\n",
    "model.compile(\n",
    "               loss      = 'binary_crossentropy' , \n",
    "               optimizer = 'rmsprop'             , \n",
    "               metrics   = ['accuracy']\n",
    "             )"
   ]
  },
  {
   "cell_type": "markdown",
   "metadata": {},
   "source": [
    "The epochs argument essentially tells the model how many iterations to go through.\n",
    "\n",
    "There’s a diminishing margin of return for setting epochs. A higher number will generally return a better accuracy, but each additional gain in accuracy will decrease until it approaches the maximum amount of accuracy the dataset can produce. \n",
    "\n",
    "Additionally, more epochs will take longer to run."
   ]
  },
  {
   "cell_type": "code",
   "execution_count": 41,
   "metadata": {},
   "outputs": [
    {
     "name": "stdout",
     "output_type": "stream",
     "text": [
      "Epoch 1/10\n",
      "94/94 [==============================] - 42s 375ms/step - loss: 0.4428 - accuracy: 0.8143 - val_loss: 0.2271 - val_accuracy: 0.9190\n",
      "Epoch 2/10\n",
      "94/94 [==============================] - 25s 261ms/step - loss: 0.2441 - accuracy: 0.8893 - val_loss: 0.1569 - val_accuracy: 0.9520\n",
      "Epoch 3/10\n",
      "94/94 [==============================] - 23s 246ms/step - loss: 0.1739 - accuracy: 0.9260 - val_loss: 0.1165 - val_accuracy: 0.9660\n",
      "Epoch 4/10\n",
      "94/94 [==============================] - 23s 247ms/step - loss: 0.1409 - accuracy: 0.9537 - val_loss: 0.2269 - val_accuracy: 0.9110\n",
      "Epoch 5/10\n",
      "94/94 [==============================] - 23s 246ms/step - loss: 0.1133 - accuracy: 0.9640 - val_loss: 0.0870 - val_accuracy: 0.9720\n",
      "Epoch 6/10\n",
      "94/94 [==============================] - 23s 247ms/step - loss: 0.0904 - accuracy: 0.9683 - val_loss: 0.0905 - val_accuracy: 0.9640\n",
      "Epoch 7/10\n",
      "94/94 [==============================] - 23s 249ms/step - loss: 0.0880 - accuracy: 0.9740 - val_loss: 0.0565 - val_accuracy: 0.9800\n",
      "Epoch 8/10\n",
      "94/94 [==============================] - 23s 240ms/step - loss: 0.0738 - accuracy: 0.9770 - val_loss: 0.0440 - val_accuracy: 0.9870\n",
      "Epoch 9/10\n",
      "94/94 [==============================] - 23s 244ms/step - loss: 0.0687 - accuracy: 0.9803 - val_loss: 0.0772 - val_accuracy: 0.9780\n",
      "Epoch 10/10\n",
      "94/94 [==============================] - 23s 242ms/step - loss: 0.0521 - accuracy: 0.9840 - val_loss: 0.0816 - val_accuracy: 0.9800\n"
     ]
    }
   ],
   "source": [
    "model_history = model.fit(\n",
    "                           X_train                           , \n",
    "                           y_train                           ,\n",
    "                           #batch_size      = 32              ,\n",
    "                           epochs          = 10              ,\n",
    "                           validation_data = (X_test, y_test),\n",
    "                           #shuffle         = True\n",
    "                         )"
   ]
  },
  {
   "cell_type": "markdown",
   "metadata": {},
   "source": [
    "After returning the number of samples and giving the time to train the epoch, the line will also return the loss and accuracy of the model on its own training set of images as well as its loss and accuracy for the validation set."
   ]
  },
  {
   "cell_type": "markdown",
   "metadata": {},
   "source": [
    "In this case, on the 10th epoch, the model achieved `98.40% accuracy` on its own **training images** and `98.00% accuracy` on **validation images** images the model had never seen before."
   ]
  },
  {
   "cell_type": "code",
   "execution_count": 42,
   "metadata": {},
   "outputs": [
    {
     "name": "stdout",
     "output_type": "stream",
     "text": [
      "32/32 [==============================] - 2s 68ms/step - loss: 0.0816 - accuracy: 0.9800\n",
      "Validation loss     : 0.08\n",
      "Validation accuracy : 98.00 %\n"
     ]
    }
   ],
   "source": [
    "val_loss ,val_acc = model.evaluate(X_test ,y_test)\n",
    "print(\"Validation loss     : {:.2f}\".format(val_loss) )\n",
    "print(\"Validation accuracy : {:.2f} %\".format(val_acc*100))"
   ]
  },
  {
   "cell_type": "code",
   "execution_count": 43,
   "metadata": {},
   "outputs": [
    {
     "data": {
      "text/plain": [
       "Text(0.5, 1.0, 'Model Accuracy')"
      ]
     },
     "execution_count": 43,
     "metadata": {},
     "output_type": "execute_result"
    },
    {
     "data": {
      "image/png": "[encoded data removed]",
      "text/plain": [
       "<Figure size 432x288 with 1 Axes>"
      ]
     },
     "metadata": {
      "needs_background": "light"
     },
     "output_type": "display_data"
    }
   ],
   "source": [
    "train_acc = model_history.history['accuracy']\n",
    "val_acc   = model_history.history['val_accuracy']\n",
    "\n",
    "plt.plot(train_acc ,label='Train Accuracy')\n",
    "plt.plot(val_acc   ,label='Test  Accuracy')\n",
    "\n",
    "plt.xlabel(\"Epochs\")\n",
    "plt.ylabel(\"Accuracy\")\n",
    "\n",
    "plt.legend()\n",
    "\n",
    "plt.title(\"Model Accuracy\")"
   ]
  },
  {
   "cell_type": "code",
   "execution_count": 44,
   "metadata": {},
   "outputs": [
    {
     "data": {
      "text/plain": [
       "Text(0.5, 1.0, 'Model Loss')"
      ]
     },
     "execution_count": 44,
     "metadata": {},
     "output_type": "execute_result"
    },
    {
     "data": {
      "image/png": "[encoded data removed]",
      "text/plain": [
       "<Figure size 432x288 with 1 Axes>"
      ]
     },
     "metadata": {
      "needs_background": "light"
     },
     "output_type": "display_data"
    }
   ],
   "source": [
    "train_loss = model_history.history['loss']\n",
    "val_loss   = model_history.history['val_loss']\n",
    "\n",
    "plt.plot(train_loss ,color='red'  ,marker='.' ,label='Train Loss')\n",
    "plt.plot(val_loss   ,color='blue' ,marker='.' ,label='Test  Loss')\n",
    "\n",
    "plt.xlabel(\"Epochs\")\n",
    "plt.ylabel(\"Loss\")\n",
    "\n",
    "plt.legend()\n",
    "\n",
    "plt.title(\"Model Loss\")"
   ]
  },
  {
   "cell_type": "markdown",
   "metadata": {},
   "source": [
    "## Evaluation"
   ]
  },
  {
   "cell_type": "code",
   "execution_count": 45,
   "metadata": {},
   "outputs": [],
   "source": [
    "y_pred = model.predict(X_test)\n",
    "y_pred = (y_pred>0.5)"
   ]
  },
  {
   "cell_type": "code",
   "execution_count": 46,
   "metadata": {},
   "outputs": [
    {
     "data": {
      "text/plain": [
       "0.98"
      ]
     },
     "execution_count": 46,
     "metadata": {},
     "output_type": "execute_result"
    }
   ],
   "source": [
    "accuracy_score(y_test,y_pred)"
   ]
  },
  {
   "cell_type": "code",
   "execution_count": 47,
   "metadata": {},
   "outputs": [
    {
     "data": {
      "text/plain": [
       "array([[713,  19],\n",
       "       [  1, 267]], dtype=int64)"
      ]
     },
     "execution_count": 47,
     "metadata": {},
     "output_type": "execute_result"
    }
   ],
   "source": [
    "confusion_matrix(y_test,y_pred)"
   ]
  },
  {
   "cell_type": "code",
   "execution_count": 48,
   "metadata": {},
   "outputs": [
    {
     "name": "stdout",
     "output_type": "stream",
     "text": [
      "              precision    recall  f1-score   support\n",
      "\n",
      "           0       1.00      0.97      0.99       732\n",
      "           1       0.93      1.00      0.96       268\n",
      "\n",
      "    accuracy                           0.98      1000\n",
      "   macro avg       0.97      0.99      0.98      1000\n",
      "weighted avg       0.98      0.98      0.98      1000\n",
      "\n"
     ]
    }
   ],
   "source": [
    "print(classification_report(y_test, y_pred))"
   ]
  },
  {
   "cell_type": "code",
   "execution_count": 49,
   "metadata": {},
   "outputs": [],
   "source": [
    "y_prob = model.predict(X_test)"
   ]
  },
  {
   "cell_type": "code",
   "execution_count": 50,
   "metadata": {},
   "outputs": [
    {
     "data": {
      "text/plain": [
       "0.9960086860778077"
      ]
     },
     "execution_count": 50,
     "metadata": {},
     "output_type": "execute_result"
    }
   ],
   "source": [
    "auc = roc_auc_score(y_test,y_prob)\n",
    "auc"
   ]
  },
  {
   "cell_type": "code",
   "execution_count": 51,
   "metadata": {},
   "outputs": [],
   "source": [
    "def plot_roc(y_test ,y_prob ,model):\n",
    "    \n",
    "    fpr, tpr, thr = roc_curve(y_test, y_prob)\n",
    "    \n",
    "    plt.plot(fpr ,tpr ,'k-')\n",
    "    plt.plot([0, 1], [0, 1], 'k--', linewidth=0.5)\n",
    "    \n",
    "    plt.grid(True)\n",
    "    \n",
    "    plt.title(\"ROC Curve : \" + model)"
   ]
  },
  {
   "cell_type": "code",
   "execution_count": 52,
   "metadata": {},
   "outputs": [
    {
     "data": {
      "image/png": "[encoded data removed]",
      "text/plain": [
       "<Figure size 432x288 with 1 Axes>"
      ]
     },
     "metadata": {
      "needs_background": "light"
     },
     "output_type": "display_data"
    }
   ],
   "source": [
    "plot_roc(y_test, y_prob, 'Convolutional Neural Network')"
   ]
  },
  {
   "cell_type": "markdown",
   "metadata": {},
   "source": [
    "## Saving Model"
   ]
  },
  {
   "cell_type": "markdown",
   "metadata": {},
   "source": [
    "The save method simply takes the name of the path to save it as a H5 file."
   ]
  },
  {
   "cell_type": "code",
   "execution_count": null,
   "metadata": {},
   "outputs": [],
   "source": [
    "model.save(\"MiniProject__Sem05.h5\")"
   ]
  },
  {
   "cell_type": "markdown",
   "metadata": {},
   "source": [
    "# Load a model"
   ]
  },
  {
   "cell_type": "code",
   "execution_count": null,
   "metadata": {},
   "outputs": [],
   "source": [
    "new_model = load_model(\"MiniProject__Sem05.h5\")"
   ]
  }
 ],
 "metadata": {
  "kernelspec": {
   "display_name": "Python 3",
   "language": "python",
   "name": "python3"
  },
  "language_info": {
   "codemirror_mode": {
    "name": "ipython",
    "version": 3
   },
   "file_extension": ".py",
   "mimetype": "text/x-python",
   "name": "python",
   "nbconvert_exporter": "python",
   "pygments_lexer": "ipython3",
   "version": "3.8.5"
  }
 },
 "nbformat": 4,
 "nbformat_minor": 4
}
